{
 "cells": [
  {
   "cell_type": "code",
   "execution_count": 25,
   "metadata": {},
   "outputs": [],
   "source": [
    "import pandas as pd\n",
    "import matplotlib.pyplot as plt"
   ]
  },
  {
   "cell_type": "code",
   "execution_count": 56,
   "metadata": {},
   "outputs": [
    {
     "name": "stderr",
     "output_type": "stream",
     "text": [
      "C:\\Users\\ostan\\AppData\\Local\\Temp\\ipykernel_27360\\1145290737.py:1: DtypeWarning: Columns (1) have mixed types. Specify dtype option on import or set low_memory=False.\n",
      "  df = pd.read_csv(\"vacancies.csv\")\n"
     ]
    }
   ],
   "source": [
    "df = pd.read_csv(\"vacancies.csv\")"
   ]
  },
  {
   "cell_type": "code",
   "execution_count": 57,
   "metadata": {},
   "outputs": [
    {
     "data": {
      "text/html": [
       "<div>\n",
       "<style scoped>\n",
       "    .dataframe tbody tr th:only-of-type {\n",
       "        vertical-align: middle;\n",
       "    }\n",
       "\n",
       "    .dataframe tbody tr th {\n",
       "        vertical-align: top;\n",
       "    }\n",
       "\n",
       "    .dataframe thead th {\n",
       "        text-align: right;\n",
       "    }\n",
       "</style>\n",
       "<table border=\"1\" class=\"dataframe\">\n",
       "  <thead>\n",
       "    <tr style=\"text-align: right;\">\n",
       "      <th></th>\n",
       "      <th>name</th>\n",
       "      <th>key_skills</th>\n",
       "      <th>salary_from</th>\n",
       "      <th>salary_to</th>\n",
       "      <th>salary_currency</th>\n",
       "      <th>area_name</th>\n",
       "      <th>published_at</th>\n",
       "    </tr>\n",
       "  </thead>\n",
       "  <tbody>\n",
       "    <tr>\n",
       "      <th>0</th>\n",
       "      <td>SAP R/3 functional consultant</td>\n",
       "      <td>NaN</td>\n",
       "      <td>NaN</td>\n",
       "      <td>NaN</td>\n",
       "      <td>NaN</td>\n",
       "      <td>Москва</td>\n",
       "      <td>2003-01-24T21:30:49+0300</td>\n",
       "    </tr>\n",
       "    <tr>\n",
       "      <th>1</th>\n",
       "      <td>Broadcast encryption engineer</td>\n",
       "      <td>NaN</td>\n",
       "      <td>NaN</td>\n",
       "      <td>2000.0</td>\n",
       "      <td>USD</td>\n",
       "      <td>Южная Корея</td>\n",
       "      <td>2003-01-31T18:24:11+0300</td>\n",
       "    </tr>\n",
       "    <tr>\n",
       "      <th>2</th>\n",
       "      <td>Embedded OS engineering manager</td>\n",
       "      <td>NaN</td>\n",
       "      <td>NaN</td>\n",
       "      <td>2000.0</td>\n",
       "      <td>USD</td>\n",
       "      <td>Москва</td>\n",
       "      <td>2003-01-31T18:25:43+0300</td>\n",
       "    </tr>\n",
       "    <tr>\n",
       "      <th>3</th>\n",
       "      <td>Coordinator on Intellectual Property Projects</td>\n",
       "      <td>NaN</td>\n",
       "      <td>NaN</td>\n",
       "      <td>NaN</td>\n",
       "      <td>NaN</td>\n",
       "      <td>Москва</td>\n",
       "      <td>2003-02-12T10:40:50+0300</td>\n",
       "    </tr>\n",
       "    <tr>\n",
       "      <th>4</th>\n",
       "      <td>Outsourcing Projects Coordinator</td>\n",
       "      <td>NaN</td>\n",
       "      <td>NaN</td>\n",
       "      <td>NaN</td>\n",
       "      <td>NaN</td>\n",
       "      <td>Москва</td>\n",
       "      <td>2003-02-14T16:31:06+0300</td>\n",
       "    </tr>\n",
       "    <tr>\n",
       "      <th>...</th>\n",
       "      <td>...</td>\n",
       "      <td>...</td>\n",
       "      <td>...</td>\n",
       "      <td>...</td>\n",
       "      <td>...</td>\n",
       "      <td>...</td>\n",
       "      <td>...</td>\n",
       "    </tr>\n",
       "    <tr>\n",
       "      <th>6332707</th>\n",
       "      <td>Ведущий специалист по сопровождению SIEM платф...</td>\n",
       "      <td>SIEM\\nPython\\nLinux\\nИнформационная безопасность</td>\n",
       "      <td>NaN</td>\n",
       "      <td>300000.0</td>\n",
       "      <td>RUR</td>\n",
       "      <td>Москва</td>\n",
       "      <td>2023-12-09T20:35:54+0300</td>\n",
       "    </tr>\n",
       "    <tr>\n",
       "      <th>6332708</th>\n",
       "      <td>PHP-программист</td>\n",
       "      <td>MySQL\\nPHP\\nPostgreSQL\\nHTML\\nJavaScript\\njQue...</td>\n",
       "      <td>NaN</td>\n",
       "      <td>NaN</td>\n",
       "      <td>NaN</td>\n",
       "      <td>Гомель</td>\n",
       "      <td>2023-12-09T20:48:22+0300</td>\n",
       "    </tr>\n",
       "    <tr>\n",
       "      <th>6332709</th>\n",
       "      <td>Motion designer</td>\n",
       "      <td>Adobe After Effect\\nОбработка видео\\nАнимация\\...</td>\n",
       "      <td>400.0</td>\n",
       "      <td>2000.0</td>\n",
       "      <td>EUR</td>\n",
       "      <td>Санкт-Петербург</td>\n",
       "      <td>2023-12-09T21:34:51+0300</td>\n",
       "    </tr>\n",
       "    <tr>\n",
       "      <th>6332710</th>\n",
       "      <td>Дизайнер интерьеров</td>\n",
       "      <td>3D Моделирование\\nпунктуальность\\nArchiCAD\\nSk...</td>\n",
       "      <td>NaN</td>\n",
       "      <td>NaN</td>\n",
       "      <td>NaN</td>\n",
       "      <td>Тамбов</td>\n",
       "      <td>2023-12-09T21:47:33+0300</td>\n",
       "    </tr>\n",
       "    <tr>\n",
       "      <th>6332711</th>\n",
       "      <td>Директор</td>\n",
       "      <td>Организаторские навыки\\nДеловая коммуникация\\n...</td>\n",
       "      <td>200000.0</td>\n",
       "      <td>300000.0</td>\n",
       "      <td>KZT</td>\n",
       "      <td>Шымкент</td>\n",
       "      <td>2023-12-09T21:52:50+0300</td>\n",
       "    </tr>\n",
       "  </tbody>\n",
       "</table>\n",
       "<p>6332712 rows × 7 columns</p>\n",
       "</div>"
      ],
      "text/plain": [
       "                                                      name  \\\n",
       "0                            SAP R/3 functional consultant   \n",
       "1                            Broadcast encryption engineer   \n",
       "2                          Embedded OS engineering manager   \n",
       "3            Coordinator on Intellectual Property Projects   \n",
       "4                         Outsourcing Projects Coordinator   \n",
       "...                                                    ...   \n",
       "6332707  Ведущий специалист по сопровождению SIEM платф...   \n",
       "6332708                                    PHP-программист   \n",
       "6332709                                    Motion designer   \n",
       "6332710                                Дизайнер интерьеров   \n",
       "6332711                                           Директор   \n",
       "\n",
       "                                                key_skills  salary_from  \\\n",
       "0                                                      NaN          NaN   \n",
       "1                                                      NaN          NaN   \n",
       "2                                                      NaN          NaN   \n",
       "3                                                      NaN          NaN   \n",
       "4                                                      NaN          NaN   \n",
       "...                                                    ...          ...   \n",
       "6332707   SIEM\\nPython\\nLinux\\nИнформационная безопасность          NaN   \n",
       "6332708  MySQL\\nPHP\\nPostgreSQL\\nHTML\\nJavaScript\\njQue...          NaN   \n",
       "6332709  Adobe After Effect\\nОбработка видео\\nАнимация\\...        400.0   \n",
       "6332710  3D Моделирование\\nпунктуальность\\nArchiCAD\\nSk...          NaN   \n",
       "6332711  Организаторские навыки\\nДеловая коммуникация\\n...     200000.0   \n",
       "\n",
       "         salary_to salary_currency        area_name              published_at  \n",
       "0              NaN             NaN           Москва  2003-01-24T21:30:49+0300  \n",
       "1           2000.0             USD      Южная Корея  2003-01-31T18:24:11+0300  \n",
       "2           2000.0             USD           Москва  2003-01-31T18:25:43+0300  \n",
       "3              NaN             NaN           Москва  2003-02-12T10:40:50+0300  \n",
       "4              NaN             NaN           Москва  2003-02-14T16:31:06+0300  \n",
       "...            ...             ...              ...                       ...  \n",
       "6332707   300000.0             RUR           Москва  2023-12-09T20:35:54+0300  \n",
       "6332708        NaN             NaN           Гомель  2023-12-09T20:48:22+0300  \n",
       "6332709     2000.0             EUR  Санкт-Петербург  2023-12-09T21:34:51+0300  \n",
       "6332710        NaN             NaN           Тамбов  2023-12-09T21:47:33+0300  \n",
       "6332711   300000.0             KZT          Шымкент  2023-12-09T21:52:50+0300  \n",
       "\n",
       "[6332712 rows x 7 columns]"
      ]
     },
     "execution_count": 57,
     "metadata": {},
     "output_type": "execute_result"
    }
   ],
   "source": [
    "df"
   ]
  },
  {
   "cell_type": "code",
   "execution_count": 58,
   "metadata": {},
   "outputs": [
    {
     "data": {
      "text/html": [
       "<div>\n",
       "<style scoped>\n",
       "    .dataframe tbody tr th:only-of-type {\n",
       "        vertical-align: middle;\n",
       "    }\n",
       "\n",
       "    .dataframe tbody tr th {\n",
       "        vertical-align: top;\n",
       "    }\n",
       "\n",
       "    .dataframe thead th {\n",
       "        text-align: right;\n",
       "    }\n",
       "</style>\n",
       "<table border=\"1\" class=\"dataframe\">\n",
       "  <thead>\n",
       "    <tr style=\"text-align: right;\">\n",
       "      <th></th>\n",
       "      <th>name</th>\n",
       "      <th>key_skills</th>\n",
       "      <th>salary_from</th>\n",
       "      <th>salary_to</th>\n",
       "      <th>salary_currency</th>\n",
       "      <th>area_name</th>\n",
       "      <th>published_at</th>\n",
       "    </tr>\n",
       "  </thead>\n",
       "  <tbody>\n",
       "    <tr>\n",
       "      <th>0</th>\n",
       "      <td>SAP R/3 functional consultant</td>\n",
       "      <td>NaN</td>\n",
       "      <td>NaN</td>\n",
       "      <td>NaN</td>\n",
       "      <td>NaN</td>\n",
       "      <td>Москва</td>\n",
       "      <td>2003-01-24T21:30:49+0300</td>\n",
       "    </tr>\n",
       "    <tr>\n",
       "      <th>1</th>\n",
       "      <td>Broadcast encryption engineer</td>\n",
       "      <td>NaN</td>\n",
       "      <td>NaN</td>\n",
       "      <td>2000.0</td>\n",
       "      <td>USD</td>\n",
       "      <td>Южная Корея</td>\n",
       "      <td>2003-01-31T18:24:11+0300</td>\n",
       "    </tr>\n",
       "    <tr>\n",
       "      <th>2</th>\n",
       "      <td>Embedded OS engineering manager</td>\n",
       "      <td>NaN</td>\n",
       "      <td>NaN</td>\n",
       "      <td>2000.0</td>\n",
       "      <td>USD</td>\n",
       "      <td>Москва</td>\n",
       "      <td>2003-01-31T18:25:43+0300</td>\n",
       "    </tr>\n",
       "    <tr>\n",
       "      <th>3</th>\n",
       "      <td>Coordinator on Intellectual Property Projects</td>\n",
       "      <td>NaN</td>\n",
       "      <td>NaN</td>\n",
       "      <td>NaN</td>\n",
       "      <td>NaN</td>\n",
       "      <td>Москва</td>\n",
       "      <td>2003-02-12T10:40:50+0300</td>\n",
       "    </tr>\n",
       "    <tr>\n",
       "      <th>4</th>\n",
       "      <td>Outsourcing Projects Coordinator</td>\n",
       "      <td>NaN</td>\n",
       "      <td>NaN</td>\n",
       "      <td>NaN</td>\n",
       "      <td>NaN</td>\n",
       "      <td>Москва</td>\n",
       "      <td>2003-02-14T16:31:06+0300</td>\n",
       "    </tr>\n",
       "  </tbody>\n",
       "</table>\n",
       "</div>"
      ],
      "text/plain": [
       "                                            name key_skills  salary_from  \\\n",
       "0                  SAP R/3 functional consultant        NaN          NaN   \n",
       "1                  Broadcast encryption engineer        NaN          NaN   \n",
       "2                Embedded OS engineering manager        NaN          NaN   \n",
       "3  Coordinator on Intellectual Property Projects        NaN          NaN   \n",
       "4               Outsourcing Projects Coordinator        NaN          NaN   \n",
       "\n",
       "   salary_to salary_currency    area_name              published_at  \n",
       "0        NaN             NaN       Москва  2003-01-24T21:30:49+0300  \n",
       "1     2000.0             USD  Южная Корея  2003-01-31T18:24:11+0300  \n",
       "2     2000.0             USD       Москва  2003-01-31T18:25:43+0300  \n",
       "3        NaN             NaN       Москва  2003-02-12T10:40:50+0300  \n",
       "4        NaN             NaN       Москва  2003-02-14T16:31:06+0300  "
      ]
     },
     "execution_count": 58,
     "metadata": {},
     "output_type": "execute_result"
    }
   ],
   "source": [
    "df.head()"
   ]
  },
  {
   "cell_type": "code",
   "execution_count": 6,
   "metadata": {},
   "outputs": [
    {
     "data": {
      "text/html": [
       "<div>\n",
       "<style scoped>\n",
       "    .dataframe tbody tr th:only-of-type {\n",
       "        vertical-align: middle;\n",
       "    }\n",
       "\n",
       "    .dataframe tbody tr th {\n",
       "        vertical-align: top;\n",
       "    }\n",
       "\n",
       "    .dataframe thead th {\n",
       "        text-align: right;\n",
       "    }\n",
       "</style>\n",
       "<table border=\"1\" class=\"dataframe\">\n",
       "  <thead>\n",
       "    <tr style=\"text-align: right;\">\n",
       "      <th></th>\n",
       "      <th>salary_from</th>\n",
       "      <th>salary_to</th>\n",
       "    </tr>\n",
       "  </thead>\n",
       "  <tbody>\n",
       "    <tr>\n",
       "      <th>count</th>\n",
       "      <td>2.969683e+06</td>\n",
       "      <td>1.914401e+06</td>\n",
       "    </tr>\n",
       "    <tr>\n",
       "      <th>mean</th>\n",
       "      <td>7.327608e+04</td>\n",
       "      <td>1.151680e+05</td>\n",
       "    </tr>\n",
       "    <tr>\n",
       "      <th>std</th>\n",
       "      <td>3.670851e+05</td>\n",
       "      <td>1.021305e+06</td>\n",
       "    </tr>\n",
       "    <tr>\n",
       "      <th>min</th>\n",
       "      <td>1.000000e+00</td>\n",
       "      <td>1.000000e+00</td>\n",
       "    </tr>\n",
       "    <tr>\n",
       "      <th>25%</th>\n",
       "      <td>2.500000e+04</td>\n",
       "      <td>3.500000e+04</td>\n",
       "    </tr>\n",
       "    <tr>\n",
       "      <th>50%</th>\n",
       "      <td>4.000000e+04</td>\n",
       "      <td>6.000000e+04</td>\n",
       "    </tr>\n",
       "    <tr>\n",
       "      <th>75%</th>\n",
       "      <td>7.500000e+04</td>\n",
       "      <td>1.000000e+05</td>\n",
       "    </tr>\n",
       "    <tr>\n",
       "      <th>max</th>\n",
       "      <td>7.500000e+07</td>\n",
       "      <td>1.000000e+09</td>\n",
       "    </tr>\n",
       "  </tbody>\n",
       "</table>\n",
       "</div>"
      ],
      "text/plain": [
       "        salary_from     salary_to\n",
       "count  2.969683e+06  1.914401e+06\n",
       "mean   7.327608e+04  1.151680e+05\n",
       "std    3.670851e+05  1.021305e+06\n",
       "min    1.000000e+00  1.000000e+00\n",
       "25%    2.500000e+04  3.500000e+04\n",
       "50%    4.000000e+04  6.000000e+04\n",
       "75%    7.500000e+04  1.000000e+05\n",
       "max    7.500000e+07  1.000000e+09"
      ]
     },
     "execution_count": 6,
     "metadata": {},
     "output_type": "execute_result"
    }
   ],
   "source": [
    "df.describe()"
   ]
  },
  {
   "cell_type": "code",
   "execution_count": 10,
   "metadata": {},
   "outputs": [
    {
     "name": "stdout",
     "output_type": "stream",
     "text": [
      "<class 'pandas.core.frame.DataFrame'>\n",
      "RangeIndex: 6332712 entries, 0 to 6332711\n",
      "Data columns (total 8 columns):\n",
      " #   Column           Dtype  \n",
      "---  ------           -----  \n",
      " 0   name             object \n",
      " 1   key_skills       object \n",
      " 2   salary_from      float64\n",
      " 3   salary_to        float64\n",
      " 4   salary_currency  object \n",
      " 5   area_name        object \n",
      " 6   published_at     object \n",
      " 7   year             object \n",
      "dtypes: float64(2), object(6)\n",
      "memory usage: 386.5+ MB\n"
     ]
    }
   ],
   "source": [
    "df.info()"
   ]
  },
  {
   "cell_type": "code",
   "execution_count": 59,
   "metadata": {},
   "outputs": [],
   "source": [
    "df.insert(7, \"year\", df.apply(lambda row: row.published_at.split('-')[0], axis=1), True)"
   ]
  },
  {
   "cell_type": "code",
   "execution_count": 60,
   "metadata": {},
   "outputs": [
    {
     "data": {
      "text/plain": [
       "array(['2003', '2004', '2005', '2006', '2007', '2008', '2009', '2010',\n",
       "       '2011', '2012', '2013', '2014', '2015', '2016', '2017', '2018',\n",
       "       '2019', '2020', '2021', '2022', '2023'], dtype=object)"
      ]
     },
     "execution_count": 60,
     "metadata": {},
     "output_type": "execute_result"
    }
   ],
   "source": [
    "df['year'].unique()"
   ]
  },
  {
   "cell_type": "code",
   "execution_count": 61,
   "metadata": {},
   "outputs": [],
   "source": [
    "df.loc[(df['salary_to'].isnull()), 'salary_to'] = df['salary_from']\n",
    "df.loc[(df['salary_from'].isnull()), 'salary_from'] = df['salary_to']"
   ]
  },
  {
   "cell_type": "code",
   "execution_count": 62,
   "metadata": {},
   "outputs": [],
   "source": [
    "df.insert(8, \"salary_mean\", (df['salary_from'] + df['salary_to']) / 2, True)"
   ]
  },
  {
   "cell_type": "code",
   "execution_count": 63,
   "metadata": {},
   "outputs": [],
   "source": [
    "df_group_year = df.groupby(by=\"year\")"
   ]
  },
  {
   "cell_type": "code",
   "execution_count": 64,
   "metadata": {},
   "outputs": [
    {
     "data": {
      "text/plain": [
       "<pandas.core.groupby.generic.DataFrameGroupBy object at 0x000001680F58C250>"
      ]
     },
     "execution_count": 64,
     "metadata": {},
     "output_type": "execute_result"
    }
   ],
   "source": [
    "df_group_year"
   ]
  },
  {
   "cell_type": "code",
   "execution_count": 65,
   "metadata": {},
   "outputs": [],
   "source": [
    "years = [str(x+1) for x in range(2002,2023)]"
   ]
  },
  {
   "cell_type": "code",
   "execution_count": 66,
   "metadata": {},
   "outputs": [],
   "source": [
    "year_salary = {}\n",
    "for year in years:\n",
    "    year_salary[year] = df_group_year.get_group(year)['salary_mean'].mean()"
   ]
  },
  {
   "cell_type": "code",
   "execution_count": 67,
   "metadata": {},
   "outputs": [
    {
     "data": {
      "text/plain": [
       "{'2003': 1366.9196261682243,\n",
       " '2004': 1488.8750578435909,\n",
       " '2005': 13331.444468175992,\n",
       " '2006': 1522.75100837056,\n",
       " '2007': 5604.620313516878,\n",
       " '2008': 27478.625961806374,\n",
       " '2009': 37548.843039155756,\n",
       " '2010': 40958.988536547615,\n",
       " '2011': 42359.959922751994,\n",
       " '2012': 44540.50981638938,\n",
       " '2013': 46218.32997868265,\n",
       " '2014': 48482.49351856433,\n",
       " '2015': 50654.9710693442,\n",
       " '2016': 58261.434461847144,\n",
       " '2017': 61724.02487842937,\n",
       " '2018': 65563.09670835566,\n",
       " '2019': 78212.32842483459,\n",
       " '2020': 91582.6133663984,\n",
       " '2021': 107873.90080414175,\n",
       " '2022': 131633.0689266094,\n",
       " '2023': 171844.99024176132}"
      ]
     },
     "execution_count": 67,
     "metadata": {},
     "output_type": "execute_result"
    }
   ],
   "source": [
    "year_salary"
   ]
  },
  {
   "cell_type": "code",
   "execution_count": 68,
   "metadata": {},
   "outputs": [],
   "source": [
    "df_vac = df[df[\"name\"].str.contains(\"python|питон|пайтон\")]"
   ]
  },
  {
   "cell_type": "code",
   "execution_count": 69,
   "metadata": {},
   "outputs": [],
   "source": [
    "df_group_year_vac = df_vac.groupby(by=\"year\")"
   ]
  },
  {
   "cell_type": "code",
   "execution_count": 70,
   "metadata": {},
   "outputs": [],
   "source": [
    "year_salary_vac = {}\n",
    "for year in years:\n",
    "    try:\n",
    "        year_salary_vac[year] = df_group_year_vac.get_group(year)['salary_mean'].mean()\n",
    "    except:\n",
    "        continue"
   ]
  },
  {
   "cell_type": "code",
   "execution_count": 71,
   "metadata": {},
   "outputs": [
    {
     "data": {
      "text/plain": [
       "{'2006': 1233.3333333333333,\n",
       " '2008': 23500.0,\n",
       " '2009': 65714.28571428571,\n",
       " '2010': 53727.27272727273,\n",
       " '2011': 70000.0,\n",
       " '2012': 64999.94117647059,\n",
       " '2013': 74273.25581395348,\n",
       " '2014': 69134.61538461539,\n",
       " '2015': 81600.0,\n",
       " '2016': 85140.10416666667,\n",
       " '2017': 95284.72222222222,\n",
       " '2018': 113536.45833333333,\n",
       " '2019': 116166.66666666667,\n",
       " '2020': 108902.22222222222,\n",
       " '2021': 129425.8865248227,\n",
       " '2022': 133061.57024793388,\n",
       " '2023': 142105.28455284552}"
      ]
     },
     "execution_count": 71,
     "metadata": {},
     "output_type": "execute_result"
    }
   ],
   "source": [
    "year_salary_vac"
   ]
  },
  {
   "cell_type": "code",
   "execution_count": 72,
   "metadata": {},
   "outputs": [
    {
     "data": {
      "image/png": "[encoded data removed]",
      "text/plain": [
       "<Figure size 640x480 with 1 Axes>"
      ]
     },
     "metadata": {},
     "output_type": "display_data"
    }
   ],
   "source": [
    "plt.bar(year_salary.keys(),year_salary.values())\n",
    "plt.xticks(rotation=60, size=8)\n",
    "plt.title('Динамика зарплат по годам',size=16)\n",
    "plt.show()"
   ]
  },
  {
   "cell_type": "code",
   "execution_count": 73,
   "metadata": {},
   "outputs": [],
   "source": [
    "df_year_to_html = pd.DataFrame(list(year_salary.items ()), columns = ['Год', 'Средняя ЗП'])"
   ]
  },
  {
   "cell_type": "code",
   "execution_count": 78,
   "metadata": {},
   "outputs": [],
   "source": [
    "df_year_to_html.to_html('year_to_html.html')"
   ]
  },
  {
   "cell_type": "code",
   "execution_count": 75,
   "metadata": {},
   "outputs": [
    {
     "data": {
      "image/png": "[encoded data removed]",
      "text/plain": [
       "<Figure size 640x480 with 1 Axes>"
      ]
     },
     "metadata": {},
     "output_type": "display_data"
    }
   ],
   "source": [
    "plt.bar(year_salary_vac.keys(),year_salary_vac.values())\n",
    "plt.xticks(rotation=60, size=8)\n",
    "plt.title('Динамика зарплат по годам для профессии python-разработчик',size=16)\n",
    "plt.show()"
   ]
  },
  {
   "cell_type": "code",
   "execution_count": 76,
   "metadata": {},
   "outputs": [],
   "source": [
    "df_year_vac_to_html = pd.DataFrame(list(year_salary_vac.items ()), columns = ['Год', 'Средняя ЗП'])"
   ]
  },
  {
   "cell_type": "code",
   "execution_count": 79,
   "metadata": {},
   "outputs": [],
   "source": [
    "df_year_vac_to_html.to_html('year_vac_to_html')"
   ]
  }
 ],
 "metadata": {
  "kernelspec": {
   "display_name": "Python 3",
   "language": "python",
   "name": "python3"
  },
  "language_info": {
   "codemirror_mode": {
    "name": "ipython",
    "version": 3
   },
   "file_extension": ".py",
   "mimetype": "text/x-python",
   "name": "python",
   "nbconvert_exporter": "python",
   "pygments_lexer": "ipython3",
   "version": "3.11.5"
  }
 },
 "nbformat": 4,
 "nbformat_minor": 2
}
